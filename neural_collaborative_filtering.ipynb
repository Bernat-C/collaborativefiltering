{
 "cells": [
  {
   "cell_type": "markdown",
   "metadata": {
    "id": "PgI5_EteXWm8"
   },
   "source": [
    "# Neural Collaborative Filtering"
   ]
  },
  {
   "cell_type": "code",
   "execution_count": 45,
   "metadata": {
    "id": "vAYtJfp-XWm9",
    "outputId": "b6f4a716-111f-40e6-d63c-c18b00155ba4",
    "ExecuteTime": {
     "end_time": "2023-12-10T11:47:11.849997200Z",
     "start_time": "2023-12-10T11:47:11.847996300Z"
    }
   },
   "outputs": [],
   "source": [
    "import pandas as pd\n",
    "import numpy as np\n",
    "from tqdm import tqdm"
   ]
  },
  {
   "cell_type": "code",
   "execution_count": 24,
   "outputs": [],
   "source": [
    "# Importem data dels ratings de fitxer\n",
    "file_data = pd.read_csv('../data/ratings.csv')\n",
    "df = file_data"
   ],
   "metadata": {
    "collapsed": false,
    "ExecuteTime": {
     "end_time": "2023-12-10T10:18:16.814500300Z",
     "start_time": "2023-12-10T10:18:11.662426600Z"
    }
   }
  },
  {
   "cell_type": "code",
   "execution_count": 25,
   "outputs": [
    {
     "data": {
      "text/plain": "   userId  movieId  rating   timestamp\n0       1      296     5.0  1147880044\n1       1      306     3.5  1147868817\n2       1      307     5.0  1147868828\n3       1      665     5.0  1147878820\n4       1      899     3.5  1147868510",
      "text/html": "<div>\n<style scoped>\n    .dataframe tbody tr th:only-of-type {\n        vertical-align: middle;\n    }\n\n    .dataframe tbody tr th {\n        vertical-align: top;\n    }\n\n    .dataframe thead th {\n        text-align: right;\n    }\n</style>\n<table border=\"1\" class=\"dataframe\">\n  <thead>\n    <tr style=\"text-align: right;\">\n      <th></th>\n      <th>userId</th>\n      <th>movieId</th>\n      <th>rating</th>\n      <th>timestamp</th>\n    </tr>\n  </thead>\n  <tbody>\n    <tr>\n      <th>0</th>\n      <td>1</td>\n      <td>296</td>\n      <td>5.0</td>\n      <td>1147880044</td>\n    </tr>\n    <tr>\n      <th>1</th>\n      <td>1</td>\n      <td>306</td>\n      <td>3.5</td>\n      <td>1147868817</td>\n    </tr>\n    <tr>\n      <th>2</th>\n      <td>1</td>\n      <td>307</td>\n      <td>5.0</td>\n      <td>1147868828</td>\n    </tr>\n    <tr>\n      <th>3</th>\n      <td>1</td>\n      <td>665</td>\n      <td>5.0</td>\n      <td>1147878820</td>\n    </tr>\n    <tr>\n      <th>4</th>\n      <td>1</td>\n      <td>899</td>\n      <td>3.5</td>\n      <td>1147868510</td>\n    </tr>\n  </tbody>\n</table>\n</div>"
     },
     "execution_count": 25,
     "metadata": {},
     "output_type": "execute_result"
    }
   ],
   "source": [
    "df.head()"
   ],
   "metadata": {
    "collapsed": false,
    "ExecuteTime": {
     "end_time": "2023-12-10T10:18:16.833635600Z",
     "start_time": "2023-12-10T10:18:16.817910100Z"
    }
   }
  },
  {
   "cell_type": "code",
   "execution_count": 26,
   "outputs": [
    {
     "name": "stdout",
     "output_type": "stream",
     "text": [
      "(985664, 4)\n"
     ]
    }
   ],
   "source": [
    "# Filtrem per obtenir menys pel·licules. Esborrarem les pel·licules que ha vist menys usuaris i els usuaris que han vist menys pel·licules.\n",
    "user_counts = df['userId'].value_counts()\n",
    "movie_counts = df['movieId'].value_counts()\n",
    "\n",
    "# Ens quedem amb les pel·licules vistes per més de 10 usuaris i els usuaris que han vist més de 100 pel·licules\n",
    "filtered_users = user_counts[user_counts >= 1000].index\n",
    "filtered_movies = movie_counts[movie_counts >= 10000].index\n",
    "\n",
    "# Ens assegurem de deixar només les interaccions que tenen pel·lícules que no hem esborrat i els usuaris que no hem esborrat\n",
    "final_df = df[df['userId'].isin(filtered_users) & df['movieId'].isin(filtered_movies)]\n",
    "\n",
    "#top_2000_movies = filtered_df['movieId'].value_counts().head(2000).index\n",
    "#final_df = filtered_df[filtered_df['movieId'].isin(top_2000_movies)]\n",
    "\n",
    "print(final_df.shape)"
   ],
   "metadata": {
    "collapsed": false,
    "ExecuteTime": {
     "end_time": "2023-12-10T10:18:17.783268500Z",
     "start_time": "2023-12-10T10:18:16.837912300Z"
    }
   }
  },
  {
   "cell_type": "code",
   "execution_count": 27,
   "outputs": [
    {
     "name": "stdout",
     "output_type": "stream",
     "text": [
      "Train Matrix Shape: (788531, 4)\n",
      "Test Matrix Shape: (197133, 4)\n"
     ]
    }
   ],
   "source": [
    "from sklearn.model_selection import train_test_split\n",
    "\n",
    "# Separem els ratings en train i test.\n",
    "train_data, test_data = train_test_split(final_df, test_size=0.2, random_state=42)\n",
    "data = {'train': pd.DataFrame(train_data, columns=final_df.columns), 'test': pd.DataFrame(test_data, columns=final_df.columns)}\n",
    "\n",
    "print(\"Train Matrix Shape:\", data['train'].shape)\n",
    "print(\"Test Matrix Shape:\", data['test'].shape)"
   ],
   "metadata": {
    "collapsed": false,
    "ExecuteTime": {
     "end_time": "2023-12-10T10:18:17.845774800Z",
     "start_time": "2023-12-10T10:18:17.783268500Z"
    }
   }
  },
  {
   "cell_type": "code",
   "execution_count": 28,
   "metadata": {
    "id": "LNWrW4COXWm_",
    "outputId": "faee8791-ef6a-4095-d62c-6d822e2c83cf",
    "ExecuteTime": {
     "end_time": "2023-12-10T10:18:18.098502600Z",
     "start_time": "2023-12-10T10:18:17.845774800Z"
    }
   },
   "outputs": [
    {
     "name": "stdout",
     "output_type": "stream",
     "text": [
      "          userId  movieId  interaction\n",
      "14625068   94650     5902            1\n",
      "23674551  153735      151            0\n",
      "15978512  103598    51255            1\n",
      "22396649  145626     1641            1\n",
      "2632625    17507     1210            1\n"
     ]
    }
   ],
   "source": [
    "# Com que volem un classificador binari, dividirem les pel·licules en agradat (1) i no agradat (0). Considerem que una pel·lícula ha agradat si té un rating major a 3.\n",
    "for dataset in [\"test\", \"train\"]:\n",
    "    data[dataset][\"interaction\"] = data[dataset]['rating'].apply(lambda x: 1 if x > 3 else 0)\n",
    "    data[dataset] = data[dataset].drop(columns=[\"rating\",\"timestamp\"])\n",
    "\n",
    "print(data[\"train\"].head())"
   ]
  },
  {
   "cell_type": "code",
   "execution_count": 29,
   "outputs": [
    {
     "name": "stdout",
     "output_type": "stream",
     "text": [
      "(788531, 3)\n",
      "(197133, 3)\n"
     ]
    }
   ],
   "source": [
    "df_train = data[\"train\"]\n",
    "df_test = data[\"test\"]\n",
    "\n",
    "print(df_train.shape)\n",
    "print(df_test.shape)"
   ],
   "metadata": {
    "collapsed": false,
    "ExecuteTime": {
     "end_time": "2023-12-10T10:18:18.114128500Z",
     "start_time": "2023-12-10T10:18:18.098502600Z"
    }
   }
  },
  {
   "cell_type": "code",
   "execution_count": 30,
   "metadata": {
    "id": "DfMyjZ5uXWnA",
    "outputId": "95fa59bd-a212-46be-a847-3c8a71f31de0",
    "ExecuteTime": {
     "end_time": "2023-12-10T10:18:18.160998600Z",
     "start_time": "2023-12-10T10:18:18.114128500Z"
    }
   },
   "outputs": [
    {
     "data": {
      "text/plain": "          userId  movieId  interaction\n14625068   94650     5902            1\n15978512  103598    51255            1\n22396649  145626     1641            1\n2632625    17507     1210            1\n21291023  138377     3911            1",
      "text/html": "<div>\n<style scoped>\n    .dataframe tbody tr th:only-of-type {\n        vertical-align: middle;\n    }\n\n    .dataframe tbody tr th {\n        vertical-align: top;\n    }\n\n    .dataframe thead th {\n        text-align: right;\n    }\n</style>\n<table border=\"1\" class=\"dataframe\">\n  <thead>\n    <tr style=\"text-align: right;\">\n      <th></th>\n      <th>userId</th>\n      <th>movieId</th>\n      <th>interaction</th>\n    </tr>\n  </thead>\n  <tbody>\n    <tr>\n      <th>14625068</th>\n      <td>94650</td>\n      <td>5902</td>\n      <td>1</td>\n    </tr>\n    <tr>\n      <th>15978512</th>\n      <td>103598</td>\n      <td>51255</td>\n      <td>1</td>\n    </tr>\n    <tr>\n      <th>22396649</th>\n      <td>145626</td>\n      <td>1641</td>\n      <td>1</td>\n    </tr>\n    <tr>\n      <th>2632625</th>\n      <td>17507</td>\n      <td>1210</td>\n      <td>1</td>\n    </tr>\n    <tr>\n      <th>21291023</th>\n      <td>138377</td>\n      <td>3911</td>\n      <td>1</td>\n    </tr>\n  </tbody>\n</table>\n</div>"
     },
     "execution_count": 30,
     "metadata": {},
     "output_type": "execute_result"
    }
   ],
   "source": [
    "# Ens quedarem només amb les interaccions positives, considerant les negatives com a no vistes.\n",
    "df_train[df_train[\"interaction\"] > 0].head()"
   ]
  },
  {
   "cell_type": "code",
   "execution_count": 31,
   "metadata": {
    "id": "objbsHb9XWnA",
    "ExecuteTime": {
     "end_time": "2023-12-10T10:18:18.160998600Z",
     "start_time": "2023-12-10T10:18:18.145375900Z"
    }
   },
   "outputs": [],
   "source": [
    "# Declarem el nostre model de Collaborative Filtering\n",
    "import torch\n",
    "import torch.nn as nn\n",
    "\n",
    "class NeuralCollaborativeFiltering(nn.Module):\n",
    "    def __init__(\n",
    "        self,\n",
    "        number_of_users,\n",
    "        number_of_items,\n",
    "        latent_dim_mf=4,\n",
    "        latent_dim_mlp=50,\n",
    "    ):\n",
    "        super(NeuralCollaborativeFiltering, self).__init__()\n",
    "\n",
    "        # Nombre de capes FC que tindrà el model després dels embeddings. \n",
    "        fully_connected = [32, 16]\n",
    "        \n",
    "        # Definim els embeddings\n",
    "        self.mf_user_embedding = nn.Embedding(num_embeddings=number_of_users,embedding_dim=latent_dim_mf)\n",
    "        self.mf_item_embedding = nn.Embedding(num_embeddings=number_of_items,embedding_dim=latent_dim_mf)\n",
    "        self.mlp_user_embedding = nn.Embedding(num_embeddings=number_of_users,embedding_dim=latent_dim_mlp)\n",
    "        self.mlp_item_embedding = nn.Embedding(num_embeddings=number_of_items,embedding_dim=latent_dim_mlp)\n",
    "\n",
    "        # Instanciem les fully connected layers que utilitzarem\n",
    "        self.fully_connected = nn.ModuleList()\n",
    "        # L'input inicial de la FC serà 2*latent_dim_mlp perquè serà la concatenació de users i items.\n",
    "        input_size = 2 * latent_dim_mlp\n",
    "        \n",
    "        for i, layer_size in enumerate(fully_connected):\n",
    "            self.fully_connected.append(nn.Linear(input_size, layer_size))\n",
    "            # L'input de la següent capa serà l'output de l'actual\n",
    "            input_size = layer_size\n",
    "        \n",
    "        # El resultat tindrà una mida d'entrada igual a la mida de la concatenació de la factorització de matrius i la última capa fully connected. \n",
    "        self.result = nn.Linear(latent_dim_mf + fully_connected[-1], 1)\n",
    "\n",
    "        # La funció d'activació de les FC serà ReLU\n",
    "        self.activation = nn.ReLU()\n",
    "\n",
    "    def forward(self, user_data, item_data):\n",
    "\n",
    "        # Creem els embeddings i els multipliquem per obtenir la factorització de matrius.\n",
    "        mf_user_embedding = self.mf_user_embedding(user_data)\n",
    "        mf_item_embedding = self.mf_item_embedding(item_data)\n",
    "        mf_cat_embedding = torch.mul(mf_user_embedding, mf_item_embedding)\n",
    "\n",
    "        # Creem els embeddings i els concatenem per utilitzar-los al mlp.\n",
    "        mlp_user_embedding = self.mlp_user_embedding(user_data)\n",
    "        mlp_item_embedding = self.mlp_item_embedding(item_data)\n",
    "        mlp_cat_embedding = torch.cat([mlp_user_embedding, mlp_item_embedding], dim=-1)\n",
    "        \n",
    "        mlp_vector = mlp_cat_embedding\n",
    "\n",
    "        # Fem passar l'mlp per totes les capes definides.\n",
    "        for layer in self.fully_connected:\n",
    "            mlp_vector = self.activation(layer(mlp_vector))\n",
    "\n",
    "        # Finalment concatenem els resultats del mlp i la factorització i ho fem passar per la última capa i activació, que serà sigmoide.\n",
    "        predict_layer = torch.cat([mlp_vector,mf_cat_embedding], dim=-1)\n",
    "        \n",
    "        output = torch.sigmoid(self.result(predict_layer))\n",
    "        \n",
    "        return output.squeeze()\n"
   ]
  },
  {
   "cell_type": "code",
   "execution_count": 32,
   "outputs": [
    {
     "name": "stdout",
     "output_type": "stream",
     "text": [
      "85165129\n"
     ]
    }
   ],
   "source": [
    "# Utilitzarem Adam\n",
    "from torch.optim import Adam\n",
    "from torch.utils.data import Dataset, DataLoader\n",
    "\n",
    "# Els resultats s'han obtingut amb cuda.\n",
    "device = 'cuda' if torch.cuda.is_available() else 'cpu'\n",
    "\n",
    "n_users = df_train[\"userId\"].shape[0]\n",
    "n_items = df_train[\"movieId\"].shape[0]\n",
    "\n",
    "model = NeuralCollaborativeFiltering(number_of_users=n_users, number_of_items=n_items).to(device)\n",
    "# Comptem els paràmetres que tindrà el model.\n",
    "print(sum(p.numel() for p in model.parameters()))"
   ],
   "metadata": {
    "collapsed": false,
    "ExecuteTime": {
     "end_time": "2023-12-10T10:18:19.109316300Z",
     "start_time": "2023-12-10T10:18:18.160998600Z"
    }
   }
  },
  {
   "cell_type": "code",
   "execution_count": 33,
   "outputs": [],
   "source": [
    "# Utilitzarem el BCELoss com a funció de pèrdua ja que entrenem un classificador binari.\n",
    "loss_function = nn.BCELoss()\n",
    "# L'optimitzador serà l'Adam (descens de gradient)\n",
    "optimizer = Adam(model.parameters(), lr=1e-3, weight_decay=1e-3)"
   ],
   "metadata": {
    "collapsed": false,
    "ExecuteTime": {
     "end_time": "2023-12-10T10:18:19.158850100Z",
     "start_time": "2023-12-10T10:18:19.111950200Z"
    }
   }
  },
  {
   "cell_type": "code",
   "execution_count": 34,
   "outputs": [],
   "source": [
    "# Hem de definir un DataSet especial per passar al dataloader perquè ens interessa que ens retorni tripletes com a getitem, i que accepti els 3 tensors d'entrada.\n",
    "class CollaborativeFilteringDataset(Dataset):\n",
    "    def __init__(self, user_tensor, item_tensor, target_tensor):\n",
    "        super(Dataset)\n",
    "        self.user_tensor = user_tensor\n",
    "        self.item_tensor = item_tensor\n",
    "        self.target_tensor = target_tensor\n",
    "        \n",
    "    def __len__(self):\n",
    "        return self.user_tensor.size(0)\n",
    "\n",
    "    def __getitem__(self, idx):\n",
    "        return self.user_tensor[idx], self.item_tensor[idx], self.target_tensor[idx]"
   ],
   "metadata": {
    "collapsed": false,
    "ExecuteTime": {
     "end_time": "2023-12-10T10:18:19.158850100Z",
     "start_time": "2023-12-10T10:18:19.127605600Z"
    }
   }
  },
  {
   "cell_type": "code",
   "execution_count": 35,
   "outputs": [],
   "source": [
    "# Instanciem els datasets, passant-los els tres tensors de longs.\n",
    "train_dataset = CollaborativeFilteringDataset(user_tensor=torch.LongTensor(df_train[\"userId\"].values),\n",
    "                                              item_tensor=torch.LongTensor(df_train[\"movieId\"].values),\n",
    "                                              target_tensor=torch.LongTensor(df_train[\"interaction\"].values))\n",
    "test_dataset = CollaborativeFilteringDataset(user_tensor=torch.LongTensor(df_test[\"userId\"].values),\n",
    "                                              item_tensor=torch.LongTensor(df_test[\"movieId\"].values),\n",
    "                                              target_tensor=torch.LongTensor(df_test[\"interaction\"].values))\n",
    "\n",
    "training_loader = DataLoader(train_dataset, batch_size=8192, shuffle=True)\n",
    "test_loader = DataLoader(test_dataset, batch_size=2048, shuffle=True)"
   ],
   "metadata": {
    "collapsed": false,
    "ExecuteTime": {
     "end_time": "2023-12-10T10:18:19.158850100Z",
     "start_time": "2023-12-10T10:18:19.143226500Z"
    }
   }
  },
  {
   "cell_type": "code",
   "execution_count": 36,
   "metadata": {
    "id": "q0YazE9CXWnB",
    "outputId": "cfb554d8-979f-4299-db92-db01a9061784",
    "ExecuteTime": {
     "end_time": "2023-12-10T10:35:19.151710Z",
     "start_time": "2023-12-10T10:18:19.158850100Z"
    }
   },
   "outputs": [
    {
     "name": "stderr",
     "output_type": "stream",
     "text": [
      "Epoch 0/100: 100%|██████████| 97/97 [00:10<00:00,  9.39it/s]\n"
     ]
    },
    {
     "name": "stdout",
     "output_type": "stream",
     "text": [
      "training loss: 63.862, training accuracy: 61.52%\n"
     ]
    },
    {
     "name": "stderr",
     "output_type": "stream",
     "text": [
      "Epoch 1/100: 100%|██████████| 97/97 [00:10<00:00,  9.37it/s]\n"
     ]
    },
    {
     "name": "stdout",
     "output_type": "stream",
     "text": [
      "training loss: 61.685, training accuracy: 63.75%\n"
     ]
    },
    {
     "name": "stderr",
     "output_type": "stream",
     "text": [
      "Epoch 2/100: 100%|██████████| 97/97 [00:09<00:00,  9.81it/s]\n"
     ]
    },
    {
     "name": "stdout",
     "output_type": "stream",
     "text": [
      "training loss: 59.377, training accuracy: 67.04%\n"
     ]
    },
    {
     "name": "stderr",
     "output_type": "stream",
     "text": [
      "Epoch 3/100: 100%|██████████| 97/97 [00:09<00:00,  9.76it/s]\n"
     ]
    },
    {
     "name": "stdout",
     "output_type": "stream",
     "text": [
      "training loss: 57.948, training accuracy: 69.02%\n"
     ]
    },
    {
     "name": "stderr",
     "output_type": "stream",
     "text": [
      "Epoch 4/100: 100%|██████████| 97/97 [00:10<00:00,  9.25it/s]\n"
     ]
    },
    {
     "name": "stdout",
     "output_type": "stream",
     "text": [
      "training loss: 57.330, training accuracy: 69.45%\n"
     ]
    },
    {
     "name": "stderr",
     "output_type": "stream",
     "text": [
      "Epoch 5/100: 100%|██████████| 97/97 [00:10<00:00,  9.10it/s]\n"
     ]
    },
    {
     "name": "stdout",
     "output_type": "stream",
     "text": [
      "training loss: 56.961, training accuracy: 69.68%\n"
     ]
    },
    {
     "name": "stderr",
     "output_type": "stream",
     "text": [
      "Epoch 6/100: 100%|██████████| 97/97 [00:10<00:00,  8.99it/s]\n"
     ]
    },
    {
     "name": "stdout",
     "output_type": "stream",
     "text": [
      "training loss: 56.688, training accuracy: 69.89%\n"
     ]
    },
    {
     "name": "stderr",
     "output_type": "stream",
     "text": [
      "Epoch 7/100: 100%|██████████| 97/97 [00:10<00:00,  9.48it/s]\n"
     ]
    },
    {
     "name": "stdout",
     "output_type": "stream",
     "text": [
      "training loss: 56.442, training accuracy: 70.06%\n"
     ]
    },
    {
     "name": "stderr",
     "output_type": "stream",
     "text": [
      "Epoch 8/100: 100%|██████████| 97/97 [00:10<00:00,  9.69it/s]\n"
     ]
    },
    {
     "name": "stdout",
     "output_type": "stream",
     "text": [
      "training loss: 56.204, training accuracy: 70.25%\n"
     ]
    },
    {
     "name": "stderr",
     "output_type": "stream",
     "text": [
      "Epoch 9/100: 100%|██████████| 97/97 [00:09<00:00,  9.77it/s]\n"
     ]
    },
    {
     "name": "stdout",
     "output_type": "stream",
     "text": [
      "training loss: 55.925, training accuracy: 70.45%\n"
     ]
    },
    {
     "name": "stderr",
     "output_type": "stream",
     "text": [
      "Epoch 10/100: 100%|██████████| 97/97 [00:10<00:00,  9.67it/s]\n"
     ]
    },
    {
     "name": "stdout",
     "output_type": "stream",
     "text": [
      "training loss: 55.642, training accuracy: 70.65%\n"
     ]
    },
    {
     "name": "stderr",
     "output_type": "stream",
     "text": [
      "Epoch 11/100: 100%|██████████| 97/97 [00:10<00:00,  9.56it/s]\n"
     ]
    },
    {
     "name": "stdout",
     "output_type": "stream",
     "text": [
      "training loss: 55.317, training accuracy: 70.87%\n"
     ]
    },
    {
     "name": "stderr",
     "output_type": "stream",
     "text": [
      "Epoch 12/100: 100%|██████████| 97/97 [00:10<00:00,  9.41it/s]\n"
     ]
    },
    {
     "name": "stdout",
     "output_type": "stream",
     "text": [
      "training loss: 54.963, training accuracy: 71.18%\n"
     ]
    },
    {
     "name": "stderr",
     "output_type": "stream",
     "text": [
      "Epoch 13/100: 100%|██████████| 97/97 [00:10<00:00,  9.60it/s]\n"
     ]
    },
    {
     "name": "stdout",
     "output_type": "stream",
     "text": [
      "training loss: 54.535, training accuracy: 71.47%\n"
     ]
    },
    {
     "name": "stderr",
     "output_type": "stream",
     "text": [
      "Epoch 14/100: 100%|██████████| 97/97 [00:09<00:00,  9.83it/s]\n"
     ]
    },
    {
     "name": "stdout",
     "output_type": "stream",
     "text": [
      "training loss: 54.024, training accuracy: 71.85%\n"
     ]
    },
    {
     "name": "stderr",
     "output_type": "stream",
     "text": [
      "Epoch 15/100: 100%|██████████| 97/97 [00:09<00:00,  9.81it/s]\n"
     ]
    },
    {
     "name": "stdout",
     "output_type": "stream",
     "text": [
      "training loss: 53.453, training accuracy: 72.31%\n"
     ]
    },
    {
     "name": "stderr",
     "output_type": "stream",
     "text": [
      "Epoch 16/100: 100%|██████████| 97/97 [00:10<00:00,  9.50it/s]\n"
     ]
    },
    {
     "name": "stdout",
     "output_type": "stream",
     "text": [
      "training loss: 52.834, training accuracy: 72.78%\n"
     ]
    },
    {
     "name": "stderr",
     "output_type": "stream",
     "text": [
      "Epoch 17/100: 100%|██████████| 97/97 [00:10<00:00,  9.55it/s]\n"
     ]
    },
    {
     "name": "stdout",
     "output_type": "stream",
     "text": [
      "training loss: 52.260, training accuracy: 73.22%\n"
     ]
    },
    {
     "name": "stderr",
     "output_type": "stream",
     "text": [
      "Epoch 18/100: 100%|██████████| 97/97 [00:09<00:00,  9.82it/s]\n"
     ]
    },
    {
     "name": "stdout",
     "output_type": "stream",
     "text": [
      "training loss: 51.768, training accuracy: 73.57%\n"
     ]
    },
    {
     "name": "stderr",
     "output_type": "stream",
     "text": [
      "Epoch 19/100: 100%|██████████| 97/97 [00:09<00:00,  9.81it/s]\n"
     ]
    },
    {
     "name": "stdout",
     "output_type": "stream",
     "text": [
      "training loss: 51.356, training accuracy: 73.86%\n"
     ]
    },
    {
     "name": "stderr",
     "output_type": "stream",
     "text": [
      "Epoch 20/100: 100%|██████████| 97/97 [00:10<00:00,  9.33it/s]\n"
     ]
    },
    {
     "name": "stdout",
     "output_type": "stream",
     "text": [
      "training loss: 51.040, training accuracy: 74.05%\n"
     ]
    },
    {
     "name": "stderr",
     "output_type": "stream",
     "text": [
      "Epoch 21/100: 100%|██████████| 97/97 [00:10<00:00,  9.45it/s]\n"
     ]
    },
    {
     "name": "stdout",
     "output_type": "stream",
     "text": [
      "training loss: 50.848, training accuracy: 74.20%\n"
     ]
    },
    {
     "name": "stderr",
     "output_type": "stream",
     "text": [
      "Epoch 22/100: 100%|██████████| 97/97 [00:10<00:00,  9.53it/s]\n"
     ]
    },
    {
     "name": "stdout",
     "output_type": "stream",
     "text": [
      "training loss: 50.679, training accuracy: 74.26%\n"
     ]
    },
    {
     "name": "stderr",
     "output_type": "stream",
     "text": [
      "Epoch 23/100: 100%|██████████| 97/97 [00:10<00:00,  9.42it/s]\n"
     ]
    },
    {
     "name": "stdout",
     "output_type": "stream",
     "text": [
      "training loss: 50.568, training accuracy: 74.37%\n"
     ]
    },
    {
     "name": "stderr",
     "output_type": "stream",
     "text": [
      "Epoch 24/100: 100%|██████████| 97/97 [00:10<00:00,  9.14it/s]\n"
     ]
    },
    {
     "name": "stdout",
     "output_type": "stream",
     "text": [
      "training loss: 50.492, training accuracy: 74.41%\n"
     ]
    },
    {
     "name": "stderr",
     "output_type": "stream",
     "text": [
      "Epoch 25/100: 100%|██████████| 97/97 [00:09<00:00,  9.79it/s]\n"
     ]
    },
    {
     "name": "stdout",
     "output_type": "stream",
     "text": [
      "training loss: 50.409, training accuracy: 74.44%\n"
     ]
    },
    {
     "name": "stderr",
     "output_type": "stream",
     "text": [
      "Epoch 26/100: 100%|██████████| 97/97 [00:09<00:00,  9.78it/s]\n"
     ]
    },
    {
     "name": "stdout",
     "output_type": "stream",
     "text": [
      "training loss: 50.355, training accuracy: 74.49%\n"
     ]
    },
    {
     "name": "stderr",
     "output_type": "stream",
     "text": [
      "Epoch 27/100: 100%|██████████| 97/97 [00:09<00:00,  9.91it/s]\n"
     ]
    },
    {
     "name": "stdout",
     "output_type": "stream",
     "text": [
      "training loss: 50.304, training accuracy: 74.49%\n"
     ]
    },
    {
     "name": "stderr",
     "output_type": "stream",
     "text": [
      "Epoch 28/100: 100%|██████████| 97/97 [00:10<00:00,  9.64it/s]\n"
     ]
    },
    {
     "name": "stdout",
     "output_type": "stream",
     "text": [
      "training loss: 50.262, training accuracy: 74.52%\n"
     ]
    },
    {
     "name": "stderr",
     "output_type": "stream",
     "text": [
      "Epoch 29/100: 100%|██████████| 97/97 [00:10<00:00,  9.62it/s]\n"
     ]
    },
    {
     "name": "stdout",
     "output_type": "stream",
     "text": [
      "training loss: 50.168, training accuracy: 74.60%\n"
     ]
    },
    {
     "name": "stderr",
     "output_type": "stream",
     "text": [
      "Epoch 30/100: 100%|██████████| 97/97 [00:10<00:00,  9.08it/s]\n"
     ]
    },
    {
     "name": "stdout",
     "output_type": "stream",
     "text": [
      "training loss: 50.116, training accuracy: 74.62%\n"
     ]
    },
    {
     "name": "stderr",
     "output_type": "stream",
     "text": [
      "Epoch 31/100: 100%|██████████| 97/97 [00:09<00:00,  9.71it/s]\n"
     ]
    },
    {
     "name": "stdout",
     "output_type": "stream",
     "text": [
      "training loss: 50.043, training accuracy: 74.65%\n"
     ]
    },
    {
     "name": "stderr",
     "output_type": "stream",
     "text": [
      "Epoch 32/100: 100%|██████████| 97/97 [00:10<00:00,  9.63it/s]\n"
     ]
    },
    {
     "name": "stdout",
     "output_type": "stream",
     "text": [
      "training loss: 49.972, training accuracy: 74.67%\n"
     ]
    },
    {
     "name": "stderr",
     "output_type": "stream",
     "text": [
      "Epoch 33/100: 100%|██████████| 97/97 [00:10<00:00,  9.36it/s]\n"
     ]
    },
    {
     "name": "stdout",
     "output_type": "stream",
     "text": [
      "training loss: 49.861, training accuracy: 74.70%\n"
     ]
    },
    {
     "name": "stderr",
     "output_type": "stream",
     "text": [
      "Epoch 34/100: 100%|██████████| 97/97 [00:10<00:00,  9.41it/s]\n"
     ]
    },
    {
     "name": "stdout",
     "output_type": "stream",
     "text": [
      "training loss: 49.790, training accuracy: 74.76%\n"
     ]
    },
    {
     "name": "stderr",
     "output_type": "stream",
     "text": [
      "Epoch 35/100: 100%|██████████| 97/97 [00:10<00:00,  9.58it/s]\n"
     ]
    },
    {
     "name": "stdout",
     "output_type": "stream",
     "text": [
      "training loss: 49.657, training accuracy: 74.79%\n"
     ]
    },
    {
     "name": "stderr",
     "output_type": "stream",
     "text": [
      "Epoch 36/100: 100%|██████████| 97/97 [00:10<00:00,  9.47it/s]\n"
     ]
    },
    {
     "name": "stdout",
     "output_type": "stream",
     "text": [
      "training loss: 49.493, training accuracy: 74.89%\n"
     ]
    },
    {
     "name": "stderr",
     "output_type": "stream",
     "text": [
      "Epoch 37/100: 100%|██████████| 97/97 [00:10<00:00,  9.44it/s]\n"
     ]
    },
    {
     "name": "stdout",
     "output_type": "stream",
     "text": [
      "training loss: 49.309, training accuracy: 74.98%\n"
     ]
    },
    {
     "name": "stderr",
     "output_type": "stream",
     "text": [
      "Epoch 38/100: 100%|██████████| 97/97 [00:09<00:00,  9.71it/s]\n"
     ]
    },
    {
     "name": "stdout",
     "output_type": "stream",
     "text": [
      "training loss: 49.096, training accuracy: 75.06%\n"
     ]
    },
    {
     "name": "stderr",
     "output_type": "stream",
     "text": [
      "Epoch 39/100: 100%|██████████| 97/97 [00:10<00:00,  9.56it/s]\n"
     ]
    },
    {
     "name": "stdout",
     "output_type": "stream",
     "text": [
      "training loss: 48.880, training accuracy: 75.17%\n"
     ]
    },
    {
     "name": "stderr",
     "output_type": "stream",
     "text": [
      "Epoch 40/100: 100%|██████████| 97/97 [00:10<00:00,  9.56it/s]\n"
     ]
    },
    {
     "name": "stdout",
     "output_type": "stream",
     "text": [
      "training loss: 48.622, training accuracy: 75.30%\n"
     ]
    },
    {
     "name": "stderr",
     "output_type": "stream",
     "text": [
      "Epoch 41/100: 100%|██████████| 97/97 [00:10<00:00,  9.02it/s]\n"
     ]
    },
    {
     "name": "stdout",
     "output_type": "stream",
     "text": [
      "training loss: 48.457, training accuracy: 75.38%\n"
     ]
    },
    {
     "name": "stderr",
     "output_type": "stream",
     "text": [
      "Epoch 42/100: 100%|██████████| 97/97 [00:10<00:00,  9.50it/s]\n"
     ]
    },
    {
     "name": "stdout",
     "output_type": "stream",
     "text": [
      "training loss: 48.370, training accuracy: 75.42%\n"
     ]
    },
    {
     "name": "stderr",
     "output_type": "stream",
     "text": [
      "Epoch 43/100: 100%|██████████| 97/97 [00:09<00:00,  9.90it/s]\n"
     ]
    },
    {
     "name": "stdout",
     "output_type": "stream",
     "text": [
      "training loss: 48.278, training accuracy: 75.52%\n"
     ]
    },
    {
     "name": "stderr",
     "output_type": "stream",
     "text": [
      "Epoch 44/100: 100%|██████████| 97/97 [00:10<00:00,  9.54it/s]\n"
     ]
    },
    {
     "name": "stdout",
     "output_type": "stream",
     "text": [
      "training loss: 48.208, training accuracy: 75.55%\n"
     ]
    },
    {
     "name": "stderr",
     "output_type": "stream",
     "text": [
      "Epoch 45/100: 100%|██████████| 97/97 [00:10<00:00,  9.40it/s]\n"
     ]
    },
    {
     "name": "stdout",
     "output_type": "stream",
     "text": [
      "training loss: 48.159, training accuracy: 75.57%\n"
     ]
    },
    {
     "name": "stderr",
     "output_type": "stream",
     "text": [
      "Epoch 46/100: 100%|██████████| 97/97 [00:10<00:00,  9.59it/s]\n"
     ]
    },
    {
     "name": "stdout",
     "output_type": "stream",
     "text": [
      "training loss: 48.096, training accuracy: 75.66%\n"
     ]
    },
    {
     "name": "stderr",
     "output_type": "stream",
     "text": [
      "Epoch 47/100: 100%|██████████| 97/97 [00:10<00:00,  9.58it/s]\n"
     ]
    },
    {
     "name": "stdout",
     "output_type": "stream",
     "text": [
      "training loss: 48.061, training accuracy: 75.68%\n"
     ]
    },
    {
     "name": "stderr",
     "output_type": "stream",
     "text": [
      "Epoch 48/100: 100%|██████████| 97/97 [00:10<00:00,  9.51it/s]\n"
     ]
    },
    {
     "name": "stdout",
     "output_type": "stream",
     "text": [
      "training loss: 48.018, training accuracy: 75.72%\n"
     ]
    },
    {
     "name": "stderr",
     "output_type": "stream",
     "text": [
      "Epoch 49/100: 100%|██████████| 97/97 [00:10<00:00,  9.43it/s]\n"
     ]
    },
    {
     "name": "stdout",
     "output_type": "stream",
     "text": [
      "training loss: 47.973, training accuracy: 75.73%\n"
     ]
    },
    {
     "name": "stderr",
     "output_type": "stream",
     "text": [
      "Epoch 50/100: 100%|██████████| 97/97 [00:09<00:00,  9.81it/s]\n"
     ]
    },
    {
     "name": "stdout",
     "output_type": "stream",
     "text": [
      "training loss: 47.953, training accuracy: 75.75%\n"
     ]
    },
    {
     "name": "stderr",
     "output_type": "stream",
     "text": [
      "Epoch 51/100: 100%|██████████| 97/97 [00:09<00:00,  9.79it/s]\n"
     ]
    },
    {
     "name": "stdout",
     "output_type": "stream",
     "text": [
      "training loss: 47.906, training accuracy: 75.80%\n"
     ]
    },
    {
     "name": "stderr",
     "output_type": "stream",
     "text": [
      "Epoch 52/100: 100%|██████████| 97/97 [00:10<00:00,  9.33it/s]\n"
     ]
    },
    {
     "name": "stdout",
     "output_type": "stream",
     "text": [
      "training loss: 47.867, training accuracy: 75.79%\n"
     ]
    },
    {
     "name": "stderr",
     "output_type": "stream",
     "text": [
      "Epoch 53/100: 100%|██████████| 97/97 [00:10<00:00,  9.62it/s]\n"
     ]
    },
    {
     "name": "stdout",
     "output_type": "stream",
     "text": [
      "training loss: 47.827, training accuracy: 75.84%\n"
     ]
    },
    {
     "name": "stderr",
     "output_type": "stream",
     "text": [
      "Epoch 54/100: 100%|██████████| 97/97 [00:10<00:00,  9.67it/s]\n"
     ]
    },
    {
     "name": "stdout",
     "output_type": "stream",
     "text": [
      "training loss: 47.820, training accuracy: 75.82%\n"
     ]
    },
    {
     "name": "stderr",
     "output_type": "stream",
     "text": [
      "Epoch 55/100: 100%|██████████| 97/97 [00:09<00:00,  9.72it/s]\n"
     ]
    },
    {
     "name": "stdout",
     "output_type": "stream",
     "text": [
      "training loss: 47.777, training accuracy: 75.86%\n"
     ]
    },
    {
     "name": "stderr",
     "output_type": "stream",
     "text": [
      "Epoch 56/100: 100%|██████████| 97/97 [00:10<00:00,  9.40it/s]\n"
     ]
    },
    {
     "name": "stdout",
     "output_type": "stream",
     "text": [
      "training loss: 47.743, training accuracy: 75.86%\n"
     ]
    },
    {
     "name": "stderr",
     "output_type": "stream",
     "text": [
      "Epoch 57/100: 100%|██████████| 97/97 [00:10<00:00,  9.51it/s]\n"
     ]
    },
    {
     "name": "stdout",
     "output_type": "stream",
     "text": [
      "training loss: 47.723, training accuracy: 75.90%\n"
     ]
    },
    {
     "name": "stderr",
     "output_type": "stream",
     "text": [
      "Epoch 58/100: 100%|██████████| 97/97 [00:09<00:00,  9.70it/s]\n"
     ]
    },
    {
     "name": "stdout",
     "output_type": "stream",
     "text": [
      "training loss: 47.704, training accuracy: 75.90%\n"
     ]
    },
    {
     "name": "stderr",
     "output_type": "stream",
     "text": [
      "Epoch 59/100: 100%|██████████| 97/97 [00:10<00:00,  9.67it/s]\n"
     ]
    },
    {
     "name": "stdout",
     "output_type": "stream",
     "text": [
      "training loss: 47.670, training accuracy: 75.94%\n"
     ]
    },
    {
     "name": "stderr",
     "output_type": "stream",
     "text": [
      "Epoch 60/100: 100%|██████████| 97/97 [00:10<00:00,  9.63it/s]\n"
     ]
    },
    {
     "name": "stdout",
     "output_type": "stream",
     "text": [
      "training loss: 47.662, training accuracy: 75.92%\n"
     ]
    },
    {
     "name": "stderr",
     "output_type": "stream",
     "text": [
      "Epoch 61/100: 100%|██████████| 97/97 [00:10<00:00,  9.56it/s]\n"
     ]
    },
    {
     "name": "stdout",
     "output_type": "stream",
     "text": [
      "training loss: 47.629, training accuracy: 75.95%\n"
     ]
    },
    {
     "name": "stderr",
     "output_type": "stream",
     "text": [
      "Epoch 62/100: 100%|██████████| 97/97 [00:10<00:00,  9.48it/s]\n"
     ]
    },
    {
     "name": "stdout",
     "output_type": "stream",
     "text": [
      "training loss: 47.604, training accuracy: 75.97%\n"
     ]
    },
    {
     "name": "stderr",
     "output_type": "stream",
     "text": [
      "Epoch 63/100: 100%|██████████| 97/97 [00:10<00:00,  9.55it/s]\n"
     ]
    },
    {
     "name": "stdout",
     "output_type": "stream",
     "text": [
      "training loss: 47.585, training accuracy: 75.94%\n"
     ]
    },
    {
     "name": "stderr",
     "output_type": "stream",
     "text": [
      "Epoch 64/100: 100%|██████████| 97/97 [00:10<00:00,  9.64it/s]\n"
     ]
    },
    {
     "name": "stdout",
     "output_type": "stream",
     "text": [
      "training loss: 47.578, training accuracy: 75.99%\n"
     ]
    },
    {
     "name": "stderr",
     "output_type": "stream",
     "text": [
      "Epoch 65/100: 100%|██████████| 97/97 [00:09<00:00,  9.75it/s]\n"
     ]
    },
    {
     "name": "stdout",
     "output_type": "stream",
     "text": [
      "training loss: 47.567, training accuracy: 75.97%\n"
     ]
    },
    {
     "name": "stderr",
     "output_type": "stream",
     "text": [
      "Epoch 66/100: 100%|██████████| 97/97 [00:10<00:00,  9.37it/s]\n"
     ]
    },
    {
     "name": "stdout",
     "output_type": "stream",
     "text": [
      "training loss: 47.547, training accuracy: 75.99%\n"
     ]
    },
    {
     "name": "stderr",
     "output_type": "stream",
     "text": [
      "Epoch 67/100: 100%|██████████| 97/97 [00:10<00:00,  9.54it/s]\n"
     ]
    },
    {
     "name": "stdout",
     "output_type": "stream",
     "text": [
      "training loss: 47.535, training accuracy: 76.01%\n"
     ]
    },
    {
     "name": "stderr",
     "output_type": "stream",
     "text": [
      "Epoch 68/100: 100%|██████████| 97/97 [00:10<00:00,  9.30it/s]\n"
     ]
    },
    {
     "name": "stdout",
     "output_type": "stream",
     "text": [
      "training loss: 47.508, training accuracy: 76.02%\n"
     ]
    },
    {
     "name": "stderr",
     "output_type": "stream",
     "text": [
      "Epoch 69/100: 100%|██████████| 97/97 [00:10<00:00,  9.47it/s]\n"
     ]
    },
    {
     "name": "stdout",
     "output_type": "stream",
     "text": [
      "training loss: 47.496, training accuracy: 76.02%\n"
     ]
    },
    {
     "name": "stderr",
     "output_type": "stream",
     "text": [
      "Epoch 70/100: 100%|██████████| 97/97 [00:10<00:00,  9.60it/s]\n"
     ]
    },
    {
     "name": "stdout",
     "output_type": "stream",
     "text": [
      "training loss: 47.468, training accuracy: 76.06%\n"
     ]
    },
    {
     "name": "stderr",
     "output_type": "stream",
     "text": [
      "Epoch 71/100: 100%|██████████| 97/97 [00:10<00:00,  9.26it/s]\n"
     ]
    },
    {
     "name": "stdout",
     "output_type": "stream",
     "text": [
      "training loss: 47.482, training accuracy: 76.05%\n"
     ]
    },
    {
     "name": "stderr",
     "output_type": "stream",
     "text": [
      "Epoch 72/100: 100%|██████████| 97/97 [00:10<00:00,  9.47it/s]\n"
     ]
    },
    {
     "name": "stdout",
     "output_type": "stream",
     "text": [
      "training loss: 47.460, training accuracy: 76.07%\n"
     ]
    },
    {
     "name": "stderr",
     "output_type": "stream",
     "text": [
      "Epoch 73/100: 100%|██████████| 97/97 [00:10<00:00,  9.08it/s]\n"
     ]
    },
    {
     "name": "stdout",
     "output_type": "stream",
     "text": [
      "training loss: 47.429, training accuracy: 76.05%\n"
     ]
    },
    {
     "name": "stderr",
     "output_type": "stream",
     "text": [
      "Epoch 74/100: 100%|██████████| 97/97 [00:10<00:00,  9.57it/s]\n"
     ]
    },
    {
     "name": "stdout",
     "output_type": "stream",
     "text": [
      "training loss: 47.423, training accuracy: 76.09%\n"
     ]
    },
    {
     "name": "stderr",
     "output_type": "stream",
     "text": [
      "Epoch 75/100: 100%|██████████| 97/97 [00:09<00:00,  9.78it/s]\n"
     ]
    },
    {
     "name": "stdout",
     "output_type": "stream",
     "text": [
      "training loss: 47.394, training accuracy: 76.10%\n"
     ]
    },
    {
     "name": "stderr",
     "output_type": "stream",
     "text": [
      "Epoch 76/100: 100%|██████████| 97/97 [00:10<00:00,  9.28it/s]\n"
     ]
    },
    {
     "name": "stdout",
     "output_type": "stream",
     "text": [
      "training loss: 47.389, training accuracy: 76.09%\n"
     ]
    },
    {
     "name": "stderr",
     "output_type": "stream",
     "text": [
      "Epoch 77/100: 100%|██████████| 97/97 [00:10<00:00,  9.38it/s]\n"
     ]
    },
    {
     "name": "stdout",
     "output_type": "stream",
     "text": [
      "training loss: 47.364, training accuracy: 76.07%\n"
     ]
    },
    {
     "name": "stderr",
     "output_type": "stream",
     "text": [
      "Epoch 78/100: 100%|██████████| 97/97 [00:10<00:00,  9.37it/s]\n"
     ]
    },
    {
     "name": "stdout",
     "output_type": "stream",
     "text": [
      "training loss: 47.360, training accuracy: 76.11%\n"
     ]
    },
    {
     "name": "stderr",
     "output_type": "stream",
     "text": [
      "Epoch 79/100: 100%|██████████| 97/97 [00:09<00:00,  9.82it/s]\n"
     ]
    },
    {
     "name": "stdout",
     "output_type": "stream",
     "text": [
      "training loss: 47.373, training accuracy: 76.11%\n"
     ]
    },
    {
     "name": "stderr",
     "output_type": "stream",
     "text": [
      "Epoch 80/100: 100%|██████████| 97/97 [00:10<00:00,  9.56it/s]\n"
     ]
    },
    {
     "name": "stdout",
     "output_type": "stream",
     "text": [
      "training loss: 47.372, training accuracy: 76.11%\n"
     ]
    },
    {
     "name": "stderr",
     "output_type": "stream",
     "text": [
      "Epoch 81/100: 100%|██████████| 97/97 [00:10<00:00,  9.34it/s]\n"
     ]
    },
    {
     "name": "stdout",
     "output_type": "stream",
     "text": [
      "training loss: 47.338, training accuracy: 76.14%\n"
     ]
    },
    {
     "name": "stderr",
     "output_type": "stream",
     "text": [
      "Epoch 82/100: 100%|██████████| 97/97 [00:10<00:00,  9.70it/s]\n"
     ]
    },
    {
     "name": "stdout",
     "output_type": "stream",
     "text": [
      "training loss: 47.314, training accuracy: 76.13%\n"
     ]
    },
    {
     "name": "stderr",
     "output_type": "stream",
     "text": [
      "Epoch 83/100: 100%|██████████| 97/97 [00:10<00:00,  9.36it/s]\n"
     ]
    },
    {
     "name": "stdout",
     "output_type": "stream",
     "text": [
      "training loss: 47.329, training accuracy: 76.11%\n"
     ]
    },
    {
     "name": "stderr",
     "output_type": "stream",
     "text": [
      "Epoch 84/100: 100%|██████████| 97/97 [00:10<00:00,  9.59it/s]\n"
     ]
    },
    {
     "name": "stdout",
     "output_type": "stream",
     "text": [
      "training loss: 47.304, training accuracy: 76.12%\n"
     ]
    },
    {
     "name": "stderr",
     "output_type": "stream",
     "text": [
      "Epoch 85/100: 100%|██████████| 97/97 [00:10<00:00,  9.52it/s]\n"
     ]
    },
    {
     "name": "stdout",
     "output_type": "stream",
     "text": [
      "training loss: 47.290, training accuracy: 76.12%\n"
     ]
    },
    {
     "name": "stderr",
     "output_type": "stream",
     "text": [
      "Epoch 86/100: 100%|██████████| 97/97 [00:10<00:00,  9.33it/s]\n"
     ]
    },
    {
     "name": "stdout",
     "output_type": "stream",
     "text": [
      "training loss: 47.289, training accuracy: 76.14%\n"
     ]
    },
    {
     "name": "stderr",
     "output_type": "stream",
     "text": [
      "Epoch 87/100: 100%|██████████| 97/97 [00:10<00:00,  9.10it/s]\n"
     ]
    },
    {
     "name": "stdout",
     "output_type": "stream",
     "text": [
      "training loss: 47.295, training accuracy: 76.16%\n"
     ]
    },
    {
     "name": "stderr",
     "output_type": "stream",
     "text": [
      "Epoch 88/100: 100%|██████████| 97/97 [00:10<00:00,  9.23it/s]\n"
     ]
    },
    {
     "name": "stdout",
     "output_type": "stream",
     "text": [
      "training loss: 47.258, training accuracy: 76.16%\n"
     ]
    },
    {
     "name": "stderr",
     "output_type": "stream",
     "text": [
      "Epoch 89/100: 100%|██████████| 97/97 [00:10<00:00,  9.28it/s]\n"
     ]
    },
    {
     "name": "stdout",
     "output_type": "stream",
     "text": [
      "training loss: 47.258, training accuracy: 76.21%\n"
     ]
    },
    {
     "name": "stderr",
     "output_type": "stream",
     "text": [
      "Epoch 90/100: 100%|██████████| 97/97 [00:10<00:00,  9.59it/s]\n"
     ]
    },
    {
     "name": "stdout",
     "output_type": "stream",
     "text": [
      "training loss: 47.257, training accuracy: 76.18%\n"
     ]
    },
    {
     "name": "stderr",
     "output_type": "stream",
     "text": [
      "Epoch 91/100: 100%|██████████| 97/97 [00:10<00:00,  9.29it/s]\n"
     ]
    },
    {
     "name": "stdout",
     "output_type": "stream",
     "text": [
      "training loss: 47.243, training accuracy: 76.19%\n"
     ]
    },
    {
     "name": "stderr",
     "output_type": "stream",
     "text": [
      "Epoch 92/100: 100%|██████████| 97/97 [00:09<00:00,  9.93it/s]\n"
     ]
    },
    {
     "name": "stdout",
     "output_type": "stream",
     "text": [
      "training loss: 47.222, training accuracy: 76.21%\n"
     ]
    },
    {
     "name": "stderr",
     "output_type": "stream",
     "text": [
      "Epoch 93/100: 100%|██████████| 97/97 [00:10<00:00,  9.69it/s]\n"
     ]
    },
    {
     "name": "stdout",
     "output_type": "stream",
     "text": [
      "training loss: 47.225, training accuracy: 76.23%\n"
     ]
    },
    {
     "name": "stderr",
     "output_type": "stream",
     "text": [
      "Epoch 94/100: 100%|██████████| 97/97 [00:10<00:00,  9.03it/s]\n"
     ]
    },
    {
     "name": "stdout",
     "output_type": "stream",
     "text": [
      "training loss: 47.211, training accuracy: 76.22%\n"
     ]
    },
    {
     "name": "stderr",
     "output_type": "stream",
     "text": [
      "Epoch 95/100: 100%|██████████| 97/97 [00:10<00:00,  9.53it/s]\n"
     ]
    },
    {
     "name": "stdout",
     "output_type": "stream",
     "text": [
      "training loss: 47.222, training accuracy: 76.23%\n"
     ]
    },
    {
     "name": "stderr",
     "output_type": "stream",
     "text": [
      "Epoch 96/100: 100%|██████████| 97/97 [00:10<00:00,  9.27it/s]\n"
     ]
    },
    {
     "name": "stdout",
     "output_type": "stream",
     "text": [
      "training loss: 47.191, training accuracy: 76.21%\n"
     ]
    },
    {
     "name": "stderr",
     "output_type": "stream",
     "text": [
      "Epoch 97/100: 100%|██████████| 97/97 [00:10<00:00,  9.55it/s]\n"
     ]
    },
    {
     "name": "stdout",
     "output_type": "stream",
     "text": [
      "training loss: 47.192, training accuracy: 76.23%\n"
     ]
    },
    {
     "name": "stderr",
     "output_type": "stream",
     "text": [
      "Epoch 98/100: 100%|██████████| 97/97 [00:10<00:00,  9.29it/s]\n"
     ]
    },
    {
     "name": "stdout",
     "output_type": "stream",
     "text": [
      "training loss: 47.165, training accuracy: 76.22%\n"
     ]
    },
    {
     "name": "stderr",
     "output_type": "stream",
     "text": [
      "Epoch 99/100: 100%|██████████| 97/97 [00:10<00:00,  9.56it/s]"
     ]
    },
    {
     "name": "stdout",
     "output_type": "stream",
     "text": [
      "training loss: 47.170, training accuracy: 76.27%\n",
      "CPU times: total: 5min 29s\n",
      "Wall time: 16min 59s\n"
     ]
    },
    {
     "name": "stderr",
     "output_type": "stream",
     "text": [
      "\n"
     ]
    }
   ],
   "source": [
    "%%time\n",
    "\n",
    "epochs = 100\n",
    "\n",
    "model.train()\n",
    "\n",
    "training_loss_per_epoch, train_accuracy_per_epoch = [], []\n",
    "for epoch in range(epochs):\n",
    "    \n",
    "    # Per cada epoch posem a 0 el comptador de loss, correctes i totals.\n",
    "    training_loss = 0\n",
    "    correct = 0\n",
    "    total = 0\n",
    "    \n",
    "    # Utilitzarem tqdm per embellir l'output\n",
    "    for batch_id, batch in enumerate(tqdm(training_loader, total=len(training_loader), desc=f\"Epoch {epoch}/{epochs}\")):\n",
    "        \n",
    "        # Obtenim del DataLoader les dades del batch actual.\n",
    "        user, item, interaction = batch[0], batch[1], batch[2]\n",
    "        \n",
    "        # Els enviem tots a cuda si cal i passem la interacció a float per poder ser comparada amb la predicció\n",
    "        user = user.to(device)\n",
    "        item = item.to(device)\n",
    "        interaction = interaction.to(device).float()\n",
    "        \n",
    "        # Predim l'output actual\n",
    "        optimizer.zero_grad()\n",
    "        predict = model(user,item).to(device)\n",
    "        \n",
    "        # Calculem la pèrdua i cridem loss.backward i l'optimitzador per tal que aprenguin.\n",
    "        loss = loss_function(predict.view(-1), interaction)\n",
    "        loss.backward()\n",
    "        optimizer.step()\n",
    "        \n",
    "        # Finalment incrementem els comptadors.\n",
    "        training_loss += loss.item()\n",
    "           \n",
    "        correct += (torch.round(predict).to(torch.long) == interaction).sum().item()\n",
    "        total += len(interaction)\n",
    "    \n",
    "    accuracy = correct/total*100\n",
    "    training_loss_per_epoch.append(training_loss)\n",
    "    train_accuracy_per_epoch.append(accuracy)\n",
    "    print('training loss: {:.3f}, training accuracy: {:.2f}%'.format(training_loss, accuracy))"
   ]
  },
  {
   "cell_type": "code",
   "execution_count": 37,
   "outputs": [
    {
     "data": {
      "text/plain": "<Figure size 640x480 with 1 Axes>",
      "image/png": "[encoded data removed]"
     },
     "metadata": {},
     "output_type": "display_data"
    }
   ],
   "source": [
    "import matplotlib.pyplot as plt\n",
    "# Mostrem per pantalla l'evolució del training loss.\n",
    "plt.plot(training_loss_per_epoch)\n",
    "\n",
    "plt.show()"
   ],
   "metadata": {
    "collapsed": false,
    "ExecuteTime": {
     "end_time": "2023-12-10T10:35:19.245950Z",
     "start_time": "2023-12-10T10:35:19.158176900Z"
    }
   }
  },
  {
   "cell_type": "code",
   "execution_count": 38,
   "outputs": [
    {
     "data": {
      "text/plain": "[<matplotlib.lines.Line2D at 0x203f6382410>]"
     },
     "execution_count": 38,
     "metadata": {},
     "output_type": "execute_result"
    },
    {
     "data": {
      "text/plain": "<Figure size 640x480 with 1 Axes>",
      "image/png": "[encoded data removed]"
     },
     "metadata": {},
     "output_type": "display_data"
    }
   ],
   "source": [
    "# Mostrem per pantalla l'evolució de l'accuracy a train.\n",
    "plt.plot(train_accuracy_per_epoch)"
   ],
   "metadata": {
    "collapsed": false,
    "ExecuteTime": {
     "end_time": "2023-12-10T10:35:19.355314300Z",
     "start_time": "2023-12-10T10:35:19.245950Z"
    }
   }
  },
  {
   "cell_type": "code",
   "execution_count": 39,
   "outputs": [],
   "source": [
    "from sklearn.metrics import mean_absolute_error, mean_squared_error"
   ],
   "metadata": {
    "collapsed": false,
    "ExecuteTime": {
     "end_time": "2023-12-10T10:35:19.402183900Z",
     "start_time": "2023-12-10T10:35:19.355314300Z"
    }
   }
  },
  {
   "cell_type": "code",
   "execution_count": 40,
   "metadata": {
    "id": "3TCtLgX8XWnB",
    "outputId": "cf45a770-e485-4286-b0e3-c10bed345ad4",
    "ExecuteTime": {
     "end_time": "2023-12-10T10:35:36.619511300Z",
     "start_time": "2023-12-10T10:35:19.370936600Z"
    }
   },
   "outputs": [
    {
     "name": "stdout",
     "output_type": "stream",
     "text": [
      "Test accuracy: 0.7584%\n",
      "Test MSE: 0.163\n",
      "Test MAE: 0.330\n"
     ]
    }
   ],
   "source": [
    "# Una vegada entrenat el model, fem les prediccions amb test.\n",
    "def test_predict(model, test_loader):\n",
    "    model.eval()\n",
    "\n",
    "    cor = 0\n",
    "    tot = 0\n",
    "    predictions = []\n",
    "    targets = []\n",
    "    elements = []\n",
    "\n",
    "    with torch.no_grad():\n",
    "        for user_data, item_data, interaction_data in test_loader:\n",
    "            user_data = user_data.to(device)\n",
    "            item_data = item_data.to(device)\n",
    "            interaction_data = interaction_data.to(device)\n",
    "            pred = model(user_data, item_data).to(device)  # Forward pass\n",
    "\n",
    "            predictions.extend(pred.flatten().tolist())\n",
    "            targets.extend(interaction_data.flatten().tolist())\n",
    "            \n",
    "            # Calcularem les prediccions i les empaquetarem per cada usuari i pel·licula, per després poder extreure'n més info.\n",
    "            for i in range(len(user_data)):\n",
    "                uid = user_data[i].item()\n",
    "                iid = item_data[i].item()\n",
    "                true_r = interaction_data[i].item()\n",
    "                est = pred[i].item()\n",
    "                elements.append((uid, iid, true_r, est))\n",
    "            \n",
    "            cor += (torch.round(pred.flatten()).to(torch.long) == interaction_data.flatten()).sum().item()\n",
    "            tot += len(user_data)\n",
    "        \n",
    "        # Mostrem les mètriques de test.\n",
    "        test_accuracy = cor/tot\n",
    "        print(\"Test accuracy: {:.4f}%\".format(test_accuracy))\n",
    "        print(\"Test MSE: %0.3f\" % mean_squared_error(predictions, targets))\n",
    "        print(\"Test MAE: %0.3f\" % mean_absolute_error(predictions, targets))\n",
    "\n",
    "    return elements\n",
    "\n",
    "elements = test_predict(model, test_loader)"
   ]
  },
  {
   "cell_type": "code",
   "execution_count": 41,
   "outputs": [],
   "source": [
    "from collections import defaultdict\n",
    "\n",
    "# Fució que ens permetrà obtenir les 10 prediccions amb més probabilitat d'interacció de tots els usuaris.\n",
    "def get_top_n(predictions, n=10):\n",
    "    # Instanciem el diccionari d'usuaris\n",
    "    top_n = defaultdict(list)\n",
    "    \n",
    "    # Afegim al diccionari totes les prediccions.\n",
    "    for uid, iid, true_r, est in predictions:\n",
    "        top_n[uid].append((iid, est))\n",
    "    \n",
    "    # Ordenem per probabilitat d'interacció i ens quedem amb els n primers.\n",
    "    for uid, interaction_prob in top_n.items():\n",
    "        interaction_prob.sort(key=lambda x: x[1], reverse=True)\n",
    "        top_n[uid] = interaction_prob[:n]\n",
    "    \n",
    "    # Retornem els n primers.\n",
    "    return top_n"
   ],
   "metadata": {
    "collapsed": false,
    "ExecuteTime": {
     "end_time": "2023-12-10T10:35:36.635134700Z",
     "start_time": "2023-12-10T10:35:36.619511300Z"
    }
   }
  },
  {
   "cell_type": "code",
   "execution_count": 42,
   "outputs": [],
   "source": [
    "# Llegirem els noms de les pel·lícules per poder mostrar un exemple de prediccions.\n",
    "movie_data = pd.read_csv('../data/movies.csv')"
   ],
   "metadata": {
    "collapsed": false,
    "ExecuteTime": {
     "end_time": "2023-12-10T10:35:36.697628400Z",
     "start_time": "2023-12-10T10:35:36.635134700Z"
    }
   }
  },
  {
   "cell_type": "code",
   "execution_count": 52,
   "outputs": [
    {
     "name": "stdout",
     "output_type": "stream",
     "text": [
      "USER: 86930\n",
      "Millors notes: ['Rush Hour 3 (2007)', 'Crimson Peak (2015)', 'Stepmom (1998)', 'Patch Adams (1998)', 'Bend It Like Beckham (2002)']\n",
      "Interaccions: ['Sixth Sense, The (1999)', 'Pirates of the Caribbean: The Curse of the Black Pearl (2003)', 'Taken (2008)', 'Bourne Identity, The (2002)', 'Forrest Gump (1994)']\n",
      "\n",
      "USER: 111073\n",
      "Millors notes: ['Usual Suspects, The (1995)', 'Prestige, The (2006)', \"Adam's Apples (Adams æbler) (2005)\", 'Rushmore (1998)', 'American Beauty (1999)']\n",
      "Interaccions: ['Goodfellas (1990)', 'Eternal Sunshine of the Spotless Mind (2004)', 'No Country for Old Men (2007)', 'Moon (2009)', 'L.A. Confidential (1997)']\n"
     ]
    }
   ],
   "source": [
    "# Nombre de prediccions que volem per cada usuari\n",
    "N = 5\n",
    "\n",
    "# Aconseguim les topn prediccions per cada usuari.\n",
    "top_n = get_top_n(elements, n=N)\n",
    "\n",
    "# Per cada usuari entre els que vulguem, mostrarem els 5 elements amb més rating i les 5 pel·licules recomanades.\n",
    "# No està pensat per extreure'n conclusions sinó simplement per mostrar visualment el funcionament.\n",
    "for uid, user_ratings in list(top_n.items())[:2]:\n",
    "    print(\"USER: {:.0f}\".format(uid))\n",
    "    ratings = file_data[file_data['userId'] == uid].sort_values(by='rating', ascending=False).head(N)[\"movieId\"].tolist()\n",
    "    print(\"Millors notes: \" + str([movie_data.loc[movie_data['movieId']==iid,'title'].values[0] for iid in ratings]))\n",
    "    print(\"Interaccions: \" + str([movie_data.loc[movie_data['movieId']==iid,'title'].values[0] for (iid, _) in user_ratings]) + \"\\n\")"
   ],
   "metadata": {
    "collapsed": false,
    "ExecuteTime": {
     "end_time": "2023-12-10T12:03:55.904741500Z",
     "start_time": "2023-12-10T12:03:55.783597100Z"
    }
   }
  },
  {
   "cell_type": "code",
   "execution_count": 48,
   "outputs": [
    {
     "name": "stdout",
     "output_type": "stream",
     "text": [
      "Mean Precision@5: 0.8764\n",
      "Std Precision@5: 0.2018\n",
      "Mean Recall@5: 0.1032\n",
      "Std Recall@5: 0.0443\n"
     ]
    }
   ],
   "source": [
    "# Calculem la precisió i recall at K (entre els K primers) Molt important, ja que com que estem fent un recomanador, no ens interessen les que no recomanarem.\n",
    "K = 5\n",
    "\n",
    "def precision_recall_at_k(predictions, k=10, threshold=0.5):\n",
    "    user_est_true = defaultdict(list)\n",
    "    # Creem el diccionari de pel·lícules per cada usuari.\n",
    "    for uid, _, true_int, est in predictions:\n",
    "        user_est_true[uid].append((est, true_int))\n",
    "    \n",
    "    precisions = dict()\n",
    "    recalls = dict()\n",
    "    # De cada element del diccionari obtenim id i probabilitat d'interacció.\n",
    "    for uid, interaction_prob in user_est_true.items():\n",
    "        # Ordenem per poder trobar els primers K\n",
    "        interaction_prob.sort(key=lambda x: x[0], reverse=True)\n",
    "        # Només sumem els que tenen una interacció superior al threshold marcat.\n",
    "        n_rel = sum((true_int >= threshold) for (_, true_int) in interaction_prob)\n",
    "        n_rec_k = sum((est >= threshold) for (est, _) in interaction_prob[:k])\n",
    "        \n",
    "        # Trobem el nombre d'elements que pertanyen al topk\n",
    "        n_rel_and_rec_k = sum(((true_int >= threshold) and (est >= threshold)) for (est, true_int) in interaction_prob[:k])\n",
    "        \n",
    "        # Precision@k = Nombre de recomanacions rellevants / Nombre de recomanats\n",
    "        precisions[uid] = n_rel_and_rec_k / n_rec_k if n_rec_k > 0 else 0\n",
    "        \n",
    "        # Recall@k = Nombre de recomanacions rellevants / Nombre d'items rellevants\n",
    "        recalls[uid] = n_rel_and_rec_k / n_rel if n_rel > 0 else 0\n",
    "    \n",
    "    return precisions, recalls\n",
    "\n",
    "precisions, recalls = precision_recall_at_k(elements, k=K, threshold=0.5)\n",
    "\n",
    "# Calculem la mitjana de precisions per tots els usuaris.\n",
    "mean_precision = sum(precisions.values()) / len(precisions)\n",
    "mean_recall = sum(recalls.values()) / len(recalls)\n",
    "\n",
    "print(f\"Mean Precision@{K}: {mean_precision:.4f}\")\n",
    "print(f\"Std Precision@{K}: {np.std(np.array(list(precisions.values()))):.4f}\")\n",
    "print(f\"Mean Recall@{K}: {mean_recall:.4f}\")\n",
    "print(f\"Std Recall@{K}: {np.std(np.array(list(recalls.values()))):.4f}\")"
   ],
   "metadata": {
    "collapsed": false,
    "ExecuteTime": {
     "end_time": "2023-12-10T11:48:35.529544300Z",
     "start_time": "2023-12-10T11:48:35.436948400Z"
    }
   }
  }
 ],
 "metadata": {
  "kernelspec": {
   "display_name": "Python 3",
   "language": "python",
   "name": "python3"
  },
  "language_info": {
   "codemirror_mode": {
    "name": "ipython",
    "version": 3
   },
   "file_extension": ".py",
   "mimetype": "text/x-python",
   "name": "python",
   "nbconvert_exporter": "python",
   "pygments_lexer": "ipython3",
   "version": "3.8.10"
  },
  "colab": {
   "provenance": []
  }
 },
 "nbformat": 4,
 "nbformat_minor": 0
}
